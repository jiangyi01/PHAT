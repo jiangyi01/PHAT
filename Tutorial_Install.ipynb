{
 "cells": [
  {
   "cell_type": "markdown",
   "id": "cd7accd1",
   "metadata": {},
   "source": [
    "## PHAT Tutorial"
   ]
  },
  {
   "cell_type": "markdown",
   "id": "87698faa",
   "metadata": {},
   "source": [
    "### Outline\n",
    "1. Install packages\n",
    "2. Download and load model parameters\n",
    "3. Run pretrained model\n",
    "4. Finetune the model\n",
    "5. Downstream work"
   ]
  },
  {
   "cell_type": "markdown",
   "id": "1baf3371",
   "metadata": {},
   "source": [
    "To install PHAT, the python version is required to >= 3.7. You can check your python version by:"
   ]
  },
  {
   "cell_type": "code",
   "execution_count": 1,
   "id": "74be23fb",
   "metadata": {},
   "outputs": [
    {
     "data": {
      "text/plain": [
       "'3.8.0'"
      ]
     },
     "execution_count": 1,
     "metadata": {},
     "output_type": "execute_result"
    }
   ],
   "source": [
    "import platform\n",
    "\n",
    "platform.python_version()"
   ]
  },
  {
   "cell_type": "markdown",
   "id": "f4b35c66",
   "metadata": {},
   "source": [
    "### 1. Install packages"
   ]
  },
  {
   "cell_type": "markdown",
   "source": [
    "if you use conda environment, execute this order before install requirements\n",
    "\n",
    "conda activate your_env"
   ],
   "metadata": {
    "collapsed": false
   }
  },
  {
   "cell_type": "markdown",
   "source": [
    "pip install -r requirements.txt"
   ],
   "metadata": {
    "collapsed": false
   }
  },
  {
   "cell_type": "markdown",
   "id": "e9ecf702",
   "metadata": {},
   "source": [
    "### 2. Download and load model parameters"
   ]
  },
  {
   "cell_type": "markdown",
   "source": [
    "run the script:\n",
    "\n",
    "python model_download.py\n",
    "\n",
    "Or, If you want to download parameters of a model separately, please run the corresponding function in model_download.py, for example:"
   ],
   "metadata": {
    "collapsed": false
   }
  },
  {
   "cell_type": "code",
   "execution_count": null,
   "outputs": [],
   "source": [
    "from model_download import download_ss_model\n",
    "\n",
    "download_ss_model()"
   ],
   "metadata": {
    "collapsed": false,
    "pycharm": {
     "name": "#%%\n"
    }
   }
  },
  {
   "cell_type": "markdown",
   "id": "0883186f",
   "metadata": {},
   "source": [
    "### 3. Run pretrained model"
   ]
  },
  {
   "cell_type": "code",
   "execution_count": 6,
   "id": "95d3686d",
   "metadata": {},
   "outputs": [],
   "source": [
    "from crf_predict import predict_pipeline as predict_pipeline_3\n",
    "from crf_predict_8class import predict_pipeline as predict_pipeline_8\n",
    "\n",
    "sequence_list = ['S S S S']\n",
    "# 3 state\n",
    "predict_pipeline_3(sequence_list)\n",
    "# 8 state\n",
    "#predict_pipeline_8(sequence_list)"
   ]
  },
  {
   "cell_type": "markdown",
   "id": "efa20b31",
   "metadata": {},
   "source": [
    "### 4. Finetune the model"
   ]
  },
  {
   "cell_type": "markdown",
   "source": [
    "First, you should equip with a GPU with 24G RAM\n",
    "Please check your equipment:\n",
    "\n",
    "nvidia-smi"
   ],
   "metadata": {
    "collapsed": false
   }
  },
  {
   "cell_type": "markdown",
   "source": [
    "First, you should exchange your data as the needed format and the example data are in the ./data/test.data.txt and ./data/train.data.txt\n",
    "\n",
    "Then define your dataset position in main.py or main_8class.py\n",
    "\n",
    "If you have done the above steps, run the script main.py or main_8class.py"
   ],
   "metadata": {
    "collapsed": false
   }
  },
  {
   "cell_type": "markdown",
   "id": "157a7940",
   "metadata": {},
   "source": [
    "### 5. Downstream work"
   ]
  },
  {
   "cell_type": "markdown",
   "id": "e2a29905",
   "metadata": {
    "pycharm": {
     "name": "#%% md\n"
    }
   },
   "source": [
    "#### PepBCL\n",
    "\n",
    "For PepBCL: you should download its weight files.(please run our download script)"
   ]
  },
  {
   "cell_type": "code",
   "execution_count": null,
   "outputs": [],
   "source": [
    "from model_download import download_PepBCL_model\n",
    "\n",
    "download_PepBCL_model()"
   ],
   "metadata": {
    "collapsed": false,
    "pycharm": {
     "name": "#%%\n"
    }
   }
  },
  {
   "cell_type": "markdown",
   "source": [
    "The next step:"
   ],
   "metadata": {
    "collapsed": false
   }
  },
  {
   "cell_type": "code",
   "execution_count": null,
   "outputs": [],
   "source": [
    "from downstream_tasks.PepBCL.PepBCL import binding_predict\n",
    "\n",
    "data = [\"\"] # your data\n",
    "binding_predict(data)"
   ],
   "metadata": {
    "collapsed": false,
    "pycharm": {
     "name": "#%%\n"
    }
   }
  },
  {
   "cell_type": "markdown",
   "source": [],
   "metadata": {
    "collapsed": false
   }
  }
 ],
 "metadata": {
  "kernelspec": {
   "display_name": "Python 3 (ipykernel)",
   "language": "python",
   "name": "python3"
  },
  "language_info": {
   "codemirror_mode": {
    "name": "ipython",
    "version": 3
   },
   "file_extension": ".py",
   "mimetype": "text/x-python",
   "name": "python",
   "nbconvert_exporter": "python",
   "pygments_lexer": "ipython3",
   "version": "3.9.7"
  }
 },
 "nbformat": 4,
 "nbformat_minor": 5
}